{
 "cells": [
  {
   "cell_type": "code",
   "execution_count": null,
   "metadata": {},
   "outputs": [],
   "source": []
  },
  {
   "cell_type": "markdown",
   "metadata": {},
   "source": [
    "<span style=\"color:red\">Start Position</span>\n",
    "<br>\n",
    "<span style=\"color:blue\">Current Position</span>\n",
    "<br>\n",
    "<span style=\"color:green\">Target Position</span>\n",
    "<br>\n",
    "\n",
    "\n",
    "    BLACK = '\\033[30m'\n",
    "    RED = '\\033[31m'\n",
    "    GREEN = '\\033[32m'\n",
    "    YELLOW = '\\033[33m'\n",
    "    BLUE = '\\033[34m'\n",
    "    MAGENTA = '\\033[35m'\n",
    "    CYAN = '\\033[36m'\n",
    "    WHITE = '\\033[37m'\n",
    "    UNDERLINE = '\\033[4m'\n",
    "    RESET = '\\033[0m'"
   ]
  },
  {
   "cell_type": "code",
   "execution_count": null,
   "metadata": {},
   "outputs": [],
   "source": []
  },
  {
   "cell_type": "code",
   "execution_count": 189,
   "metadata": {},
   "outputs": [],
   "source": [
    "class Cursor():\n",
    "    map = None\n",
    "    \"\"\"\n",
    "    Pos: Array coordinates \n",
    "    State: standing, lying horizontally, and lying vertically\n",
    "           st, lh and lv\n",
    "    \"\"\"\n",
    "    def __init__(self, pos, state):\n",
    "        self.pos = pos\n",
    "        self.state = state\n",
    "        \n",
    "    def right(self):\n",
    "        pass\n",
    "    \n",
    "    def left(self):\n",
    "        pass\n",
    "    \n",
    "    def up(self):\n",
    "        pass\n",
    "    \n",
    "    def down(self):\n",
    "        pass\n",
    "    \n",
    "    def is_valid_pos(self):\n",
    "        pass\n",
    "    "
   ]
  },
  {
   "cell_type": "code",
   "execution_count": 263,
   "metadata": {},
   "outputs": [],
   "source": [
    "class Map():\n",
    "    grid = None\n",
    "    schema = None\n",
    "    cursor = None\n",
    "    def __init__(self, schema:'list[list]', start_pos=None, target_pos=None):\n",
    "        self.schema = schema\n",
    "        self.start_pos = start_pos\n",
    "        self.target_pos = target_pos\n",
    "        self.init_grid()\n",
    "            \n",
    "    def init_cursor(self, current_pos=None, state='st'):\n",
    "        if current_pos is None:\n",
    "            current_pos = self.start_pos\n",
    "        self.cursor = Cursor(current_pos, state)\n",
    "        self.map = self\n",
    "    \n",
    "    def init_grid(self):\n",
    "        self.rows = len(schema)\n",
    "        self.cols = 0\n",
    "        for r in self.schema:\n",
    "            self.cols = max(self.cols, r[1])\n",
    "        self.cols+=1\n",
    "        self.grid = []\n",
    "        for r in self.schema:\n",
    "            row = [False]*self.cols\n",
    "            for i in range(r[0], r[1]+1):\n",
    "                row[i]=True\n",
    "            self.grid.append(row)\n",
    "        \n",
    "    def plot(self):\n",
    "        print(f'-- Map Plot {self.rows}X{self.cols}')\n",
    "        for r in range(self.rows):\n",
    "            print('')\n",
    "            # Top\n",
    "            for c in range(self.cols):\n",
    "                if self.grid[r][c]:\n",
    "                    col = '+ '\n",
    "                elif r>0 and self.grid[r-1][c]:\n",
    "                    col = '+ '\n",
    "                else:\n",
    "                    col = '  '\n",
    "                print(col, end='')\n",
    "            print('')\n",
    "            # Middle|\n",
    "            for c in range(self.cols):\n",
    "                if self.grid[r][c]:\n",
    "                    col = '|'\n",
    "                else:\n",
    "                    col = ' '\n",
    "                empty = True\n",
    "                if self.cursor is not None:\n",
    "                    if self.cursor.pos == [r,c]:\n",
    "                        col+='\\033[34mX\\033[0m'\n",
    "                        empty= False\n",
    "                if empty:\n",
    "                    if self.start_pos == [r, c]:\n",
    "                        col+='\\033[31mX\\033[0m'\n",
    "                        empty= False\n",
    "                    elif self.target_pos == [r, c]:\n",
    "                        col+='\\033[32mX\\033[0m'\n",
    "                        empty= False\n",
    "                if empty:\n",
    "                    col+=' '\n",
    "                print(col, end='')\n",
    "            # End\n",
    "            if r>=self.rows-1:\n",
    "                print('')\n",
    "                for c in range(self.cols):\n",
    "                    if self.grid[r][c]:\n",
    "                        col = '+ '\n",
    "                    else:\n",
    "                        col = '  '\n",
    "                    print(col, end='')"
   ]
  },
  {
   "cell_type": "code",
   "execution_count": null,
   "metadata": {},
   "outputs": [],
   "source": []
  },
  {
   "cell_type": "code",
   "execution_count": 264,
   "metadata": {},
   "outputs": [],
   "source": [
    "schema = [\n",
    "    (0,9),\n",
    "    (5,8),\n",
    "    (3, 7)\n",
    "]"
   ]
  },
  {
   "cell_type": "code",
   "execution_count": 265,
   "metadata": {},
   "outputs": [],
   "source": [
    "m = Map(schema, [0,1], [2,6])\n",
    "m.init_cursor([0, 1])"
   ]
  },
  {
   "cell_type": "code",
   "execution_count": 266,
   "metadata": {},
   "outputs": [
    {
     "data": {
      "text/plain": [
       "[0, 1]"
      ]
     },
     "execution_count": 266,
     "metadata": {},
     "output_type": "execute_result"
    }
   ],
   "source": [
    "m.start_pos"
   ]
  },
  {
   "cell_type": "code",
   "execution_count": 267,
   "metadata": {},
   "outputs": [
    {
     "data": {
      "text/plain": [
       "[[True, True, True, True, True, True, True, True, True, True],\n",
       " [False, False, False, False, False, True, True, True, True, False],\n",
       " [False, False, False, True, True, True, True, True, False, False]]"
      ]
     },
     "execution_count": 267,
     "metadata": {},
     "output_type": "execute_result"
    }
   ],
   "source": [
    "m.grid"
   ]
  },
  {
   "cell_type": "code",
   "execution_count": 268,
   "metadata": {
    "scrolled": true
   },
   "outputs": [
    {
     "name": "stdout",
     "output_type": "stream",
     "text": [
      "-- Map Plot 3X10\n",
      "\n",
      "+ + + + + + + + + + \n",
      "| |\u001b[34mX\u001b[0m| | | | | | | | \n",
      "+ + + + + + + + + + \n",
      "          | | | |   \n",
      "      + + + + + +   \n",
      "      | | | |\u001b[32mX\u001b[0m|     \n",
      "      + + + + +     "
     ]
    }
   ],
   "source": [
    "m.plot()"
   ]
  },
  {
   "cell_type": "code",
   "execution_count": null,
   "metadata": {},
   "outputs": [],
   "source": []
  },
  {
   "cell_type": "code",
   "execution_count": null,
   "metadata": {},
   "outputs": [],
   "source": []
  },
  {
   "cell_type": "code",
   "execution_count": null,
   "metadata": {},
   "outputs": [],
   "source": []
  },
  {
   "cell_type": "code",
   "execution_count": null,
   "metadata": {},
   "outputs": [],
   "source": []
  }
 ],
 "metadata": {
  "kernelspec": {
   "display_name": "Python 3",
   "language": "python",
   "name": "python3"
  },
  "language_info": {
   "codemirror_mode": {
    "name": "ipython",
    "version": 3
   },
   "file_extension": ".py",
   "mimetype": "text/x-python",
   "name": "python",
   "nbconvert_exporter": "python",
   "pygments_lexer": "ipython3",
   "version": "3.8.3"
  }
 },
 "nbformat": 4,
 "nbformat_minor": 4
}
