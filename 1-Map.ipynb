{
 "cells": [
  {
   "cell_type": "code",
   "execution_count": null,
   "metadata": {},
   "outputs": [],
   "source": []
  },
  {
   "cell_type": "markdown",
   "metadata": {},
   "source": [
    "<span style=\"color:blue\">Start Position</span>\n",
    "<br>\n",
    "<span style=\"color:red\">Current Position</span>\n",
    "<br>\n",
    "<span style=\"color:green\">Target Position</span>\n",
    "<br>"
   ]
  },
  {
   "cell_type": "code",
   "execution_count": null,
   "metadata": {},
   "outputs": [],
   "source": []
  },
  {
   "cell_type": "code",
   "execution_count": null,
   "metadata": {},
   "outputs": [],
   "source": [
    "class cursor():\n",
    "    \"\"\"\n",
    "    Pos: Array coordinates \n",
    "    State: standing, \n",
    "    \"\"\"\n",
    "    def __init__(self, pos, state):\n",
    "        self.pos = pos\n",
    "        self.state = state\n",
    "    def "
   ]
  },
  {
   "cell_type": "code",
   "execution_count": 175,
   "metadata": {},
   "outputs": [],
   "source": [
    "class Map():\n",
    "    grid = None\n",
    "    schema = None\n",
    "    cursor = None\n",
    "    def __init__(self, schema:'list[list]', start_pos=None, target_pos=None, current_pos=None):\n",
    "        self.schema = schema\n",
    "        self.create_grid()\n",
    "        self.start_pos = start_pos\n",
    "        self.target_pos = target_pos\n",
    "        self.current_pos = current_pos\n",
    "        \n",
    "    def create_grid(self):\n",
    "        self.rows = len(schema)\n",
    "        self.cols = 0\n",
    "        for r in self.schema:\n",
    "            self.cols = max(self.cols, r[1])\n",
    "        self.cols+=1\n",
    "        self.grid = []\n",
    "        for r in self.schema:\n",
    "            row = [False]*self.cols\n",
    "            for i in range(r[0], r[1]+1):\n",
    "                row[i]=True\n",
    "            self.grid.append(row)\n",
    "        \n",
    "    def plot(self):\n",
    "        print(f'-- Map Plot {self.rows}X{self.cols}')\n",
    "#         for row in self.grid:\n",
    "#             print('')\n",
    "#             for x in row:\n",
    "#                 if x:\n",
    "#                     col = \"| |\"\n",
    "#                 else:\n",
    "#                     col = \"   \"\n",
    "#                 print(col, end='')\n",
    "        for r in range(self.rows):\n",
    "#             print('\\n', r)\n",
    "            print('')\n",
    "            # Top\n",
    "            for c in range(self.cols):\n",
    "                if self.grid[r][c]:\n",
    "                    col = '+ '\n",
    "                elif r>0 and self.grid[r-1][c]:\n",
    "                    col = '+ '\n",
    "                else:\n",
    "                    col = '  '\n",
    "                print(col, end='')\n",
    "            print('')\n",
    "            # Middle\n",
    "            for c in range(self.cols):\n",
    "                if self.grid[r][c]:\n",
    "                    col = '|'\n",
    "                elif r<self.rows-1 and self.grid[r+1][c]:\n",
    "                    col = '|'\n",
    "                else:\n",
    "                    col = ' '\n",
    "                if self.cursor is not None:\n",
    "                    pass\n",
    "                else:\n",
    "                    col+=' '\n",
    "                print(col, end='')\n",
    "            # End\n",
    "            if r>=self.rows-1:\n",
    "                print('')\n",
    "                for c in range(self.cols):\n",
    "                    if self.grid[r][c]:\n",
    "                        col = '+ '\n",
    "                    else:\n",
    "                        col = '  '\n",
    "                    print(col, end='')"
   ]
  },
  {
   "cell_type": "code",
   "execution_count": null,
   "metadata": {},
   "outputs": [],
   "source": []
  },
  {
   "cell_type": "code",
   "execution_count": 180,
   "metadata": {},
   "outputs": [],
   "source": [
    "schema = [\n",
    "    (0,9),\n",
    "    (5,8),\n",
    "    (3, 7)\n",
    "]"
   ]
  },
  {
   "cell_type": "code",
   "execution_count": 181,
   "metadata": {},
   "outputs": [],
   "source": [
    "m = Map(schema)"
   ]
  },
  {
   "cell_type": "code",
   "execution_count": 182,
   "metadata": {},
   "outputs": [
    {
     "data": {
      "text/plain": [
       "[[True, True, True, True, True, True, True, True, True, True],\n",
       " [False, False, False, False, False, True, True, True, True, False],\n",
       " [False, False, False, True, True, True, True, True, False, False]]"
      ]
     },
     "execution_count": 182,
     "metadata": {},
     "output_type": "execute_result"
    }
   ],
   "source": [
    "m.grid"
   ]
  },
  {
   "cell_type": "code",
   "execution_count": 183,
   "metadata": {
    "scrolled": true
   },
   "outputs": [
    {
     "name": "stdout",
     "output_type": "stream",
     "text": [
      "-- Map Plot 3X10\n",
      "\n",
      "+ + + + + + + + + + \n",
      "| | | | | | | | | | \n",
      "+ + + + + + + + + + \n",
      "      | | | | | |   \n",
      "      + + + + + +   \n",
      "      | | | | |     \n",
      "      + + + + +     "
     ]
    }
   ],
   "source": [
    "m.plot()"
   ]
  },
  {
   "cell_type": "code",
   "execution_count": 184,
   "metadata": {},
   "outputs": [
    {
     "name": "stdout",
     "output_type": "stream",
     "text": [
      "\u001b[31mX\n"
     ]
    }
   ],
   "source": [
    "print('\\033[31mX')"
   ]
  },
  {
   "cell_type": "code",
   "execution_count": null,
   "metadata": {},
   "outputs": [],
   "source": []
  }
 ],
 "metadata": {
  "kernelspec": {
   "display_name": "Python 3",
   "language": "python",
   "name": "python3"
  },
  "language_info": {
   "codemirror_mode": {
    "name": "ipython",
    "version": 3
   },
   "file_extension": ".py",
   "mimetype": "text/x-python",
   "name": "python",
   "nbconvert_exporter": "python",
   "pygments_lexer": "ipython3",
   "version": "3.8.3"
  }
 },
 "nbformat": 4,
 "nbformat_minor": 4
}
