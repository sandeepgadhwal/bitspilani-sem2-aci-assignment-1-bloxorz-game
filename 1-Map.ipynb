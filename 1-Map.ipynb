{
 "cells": [
  {
   "cell_type": "code",
   "execution_count": null,
   "metadata": {},
   "outputs": [],
   "source": []
  },
  {
   "cell_type": "markdown",
   "metadata": {},
   "source": [
    "<span style=\"color:red\">Start Position</span>\n",
    "<br>\n",
    "<span style=\"color:blue\">Current Position</span>\n",
    "<br>\n",
    "<span style=\"color:green\">Target Position</span>\n",
    "<br>\n",
    "\n",
    "\n",
    "    BLACK = '\\033[30m'\n",
    "    RED = '\\033[31m'\n",
    "    GREEN = '\\033[32m'\n",
    "    YELLOW = '\\033[33m'\n",
    "    BLUE = '\\033[34m'\n",
    "    MAGENTA = '\\033[35m'\n",
    "    CYAN = '\\033[36m'\n",
    "    WHITE = '\\033[37m'\n",
    "    UNDERLINE = '\\033[4m'\n",
    "    RESET = '\\033[0m'"
   ]
  },
  {
   "cell_type": "code",
   "execution_count": null,
   "metadata": {},
   "outputs": [],
   "source": []
  },
  {
   "cell_type": "code",
   "execution_count": 443,
   "metadata": {},
   "outputs": [
    {
     "ename": "SyntaxError",
     "evalue": "invalid syntax (<ipython-input-443-b80b46de6d00>, line 14)",
     "output_type": "error",
     "traceback": [
      "\u001b[1;36m  File \u001b[1;32m\"<ipython-input-443-b80b46de6d00>\"\u001b[1;36m, line \u001b[1;32m14\u001b[0m\n\u001b[1;33m    self.\u001b[0m\n\u001b[1;37m         ^\u001b[0m\n\u001b[1;31mSyntaxError\u001b[0m\u001b[1;31m:\u001b[0m invalid syntax\n"
     ]
    }
   ],
   "source": [
    "class Cursor():\n",
    "    map = None\n",
    "    \"\"\"\n",
    "    Pos: Array coordinates \n",
    "    State: standing, lying horizontally, and lying vertically\n",
    "           st, lh and lv\n",
    "    \"\"\"\n",
    "    def __init__(self, pos, state):\n",
    "        self.pos = pos\n",
    "        self.state = state\n",
    "    \n",
    "    def backup_state(self):\n",
    "        self._state = self.state\n",
    "        self._pos = self.pos\n",
    "    \n",
    "    def restore_state(self):\n",
    "        self.state = self._state\n",
    "        self.pos = self._pos\n",
    "            \n",
    "    def apply_state(self, pos, state):\n",
    "        self.backup_state()\n",
    "        self.assert_valid_pos(pos, state)\n",
    "        self.pos = pos\n",
    "        self.state = state\n",
    "        \n",
    "    def calculate_state(self, direction):\n",
    "        if direction='right':\n",
    "            \n",
    "    \n",
    "    def right(self):\n",
    "        pos, state = self.calculate_state('right')\n",
    "        self.apply_state(pos, state)\n",
    "        \n",
    "    \n",
    "    def left(self):\n",
    "        pass\n",
    "    \n",
    "    def up(self):\n",
    "        pass\n",
    "    \n",
    "    def down(self):\n",
    "        pass\n",
    "    \n",
    "    def assert_valid_pos(self):\n",
    "        if not self.map.allow_invalid_pos:\n",
    "            assert self.is_valid_pos()==True\n",
    "    \n",
    "    def is_valid_pos(self, pos=None, state=None):\n",
    "        if pos is None:\n",
    "            pos = self.pos\n",
    "        if type(pos[0]) is list:\n",
    "            return self.map.grid[pos[0][0], pos[1]] and self.map.grid[pos[0][1], pos[1]]\n",
    "        elif type(pos[1]) is list:\n",
    "            return self.map.grid[pos[0], pos[1][0]] and self.map.grid[pos[0], pos[1][1]]\n",
    "        return self.map.grid[pos[0], pos[1]]\n",
    "    \n"
   ]
  },
  {
   "cell_type": "code",
   "execution_count": 444,
   "metadata": {},
   "outputs": [],
   "source": [
    "class Map():\n",
    "    grid = None\n",
    "    schema = None\n",
    "    cursor = None\n",
    "    allow_invalid_pos = False\n",
    "    def __init__(self, schema:'list[list]', start_pos=None, target_pos=None):\n",
    "        self.schema = schema\n",
    "        self.start_pos = start_pos\n",
    "        self.target_pos = target_pos\n",
    "        self.init_grid()\n",
    "            \n",
    "    def init_cursor(self, current_pos=None, state='st'):\n",
    "        if current_pos is None:\n",
    "            current_pos = self.start_pos\n",
    "        self.cursor = Cursor(current_pos, state)\n",
    "        self.map = self\n",
    "    \n",
    "    def init_grid(self):\n",
    "        self.rows = len(schema)\n",
    "        self.cols = 0\n",
    "        for r in self.schema:\n",
    "            self.cols = max(self.cols, r[1])\n",
    "        self.cols+=1\n",
    "        self.grid = []\n",
    "        for r in self.schema:\n",
    "            row = [False]*self.cols\n",
    "            for i in range(r[0], r[1]+1):\n",
    "                row[i]=True\n",
    "            self.grid.append(row)\n",
    "        \n",
    "    def plot(self):\n",
    "        print(f'-- Map Plot {self.rows}X{self.cols}')\n",
    "        print('\\n    ', end='')\n",
    "        for i in range(self.cols):\n",
    "            print(i, end=' ')\n",
    "        print(' ')\n",
    "        for r in range(self.rows):\n",
    "            print(('   '+str(r))[-3:], end=' ')\n",
    "            # Top\n",
    "            for c in range(self.cols):\n",
    "                if self.grid[r][c]:\n",
    "                    col = '+ '\n",
    "                elif r>0 and self.grid[r-1][c]:\n",
    "                    col = '+ '\n",
    "                else:\n",
    "                    col = '  '\n",
    "                print(col, end='')\n",
    "            print('')\n",
    "            print('   ', end=' ')\n",
    "            # Middle|\n",
    "            for c in range(self.cols):\n",
    "                if self.grid[r][c]:\n",
    "                    col = '|'\n",
    "                else:\n",
    "                    col = ' '\n",
    "                empty = True\n",
    "                if self.cursor is not None:\n",
    "                    pos = self.cursor.pos\n",
    "                    if pos == [r,c]: # st\n",
    "                        col+='\\033[34mX\\033[0m'\n",
    "                        empty= False\n",
    "                    elif self.cursor.state == 'lv':\n",
    "                        if ([pos[0][0], pos[1]]==[r,c]) or ([pos[0][1], pos[1]]==[r,c]):\n",
    "                            col+='\\033[34mX\\033[0m'\n",
    "                            empty= False                    \n",
    "                    elif self.cursor.state == 'lh':\n",
    "                        if ([pos[0], pos[1][0]]==[r,c]) or ([pos[0], pos[1][1]]==[r,c]): # lh\n",
    "                            col+='\\033[34mX\\033[0m'\n",
    "                            empty= False\n",
    "                #\n",
    "                if empty:\n",
    "                    if self.start_pos == [r, c]:\n",
    "                        col+='\\033[31mX\\033[0m'\n",
    "                        empty= False\n",
    "                    elif self.target_pos == [r, c]:\n",
    "                        col+='\\033[32mX\\033[0m'\n",
    "                        empty= False\n",
    "                if empty:\n",
    "                    col+=' '\n",
    "                print(col, end='')\n",
    "            # End\n",
    "            if r>=self.rows-1:\n",
    "                print('')\n",
    "                print('   ', end=' ')\n",
    "                for c in range(self.cols):\n",
    "                    if self.grid[r][c]:\n",
    "                        col = '+ '\n",
    "                    else:\n",
    "                        col = '  '\n",
    "                    print(col, end='')\n",
    "            print('')"
   ]
  },
  {
   "cell_type": "code",
   "execution_count": null,
   "metadata": {},
   "outputs": [],
   "source": []
  },
  {
   "cell_type": "code",
   "execution_count": 445,
   "metadata": {},
   "outputs": [],
   "source": [
    "schema = [\n",
    "    (0,9),\n",
    "    (5,8),\n",
    "    (3, 7)\n",
    "]"
   ]
  },
  {
   "cell_type": "code",
   "execution_count": 451,
   "metadata": {},
   "outputs": [],
   "source": [
    "m = Map(schema, [0,1], [2,6])\n",
    "m.init_cursor([0, 0])"
   ]
  },
  {
   "cell_type": "code",
   "execution_count": 452,
   "metadata": {},
   "outputs": [
    {
     "data": {
      "text/plain": [
       "[0, 1]"
      ]
     },
     "execution_count": 452,
     "metadata": {},
     "output_type": "execute_result"
    }
   ],
   "source": [
    "m.start_pos"
   ]
  },
  {
   "cell_type": "code",
   "execution_count": 453,
   "metadata": {},
   "outputs": [
    {
     "data": {
      "text/plain": [
       "[[True, True, True, True, True, True, True, True, True, True],\n",
       " [False, False, False, False, False, True, True, True, True, False],\n",
       " [False, False, False, True, True, True, True, True, False, False]]"
      ]
     },
     "execution_count": 453,
     "metadata": {},
     "output_type": "execute_result"
    }
   ],
   "source": [
    "m.grid"
   ]
  },
  {
   "cell_type": "code",
   "execution_count": 454,
   "metadata": {
    "scrolled": true
   },
   "outputs": [
    {
     "name": "stdout",
     "output_type": "stream",
     "text": [
      "-- Map Plot 3X10\n",
      "\n",
      "    0 1 2 3 4 5 6 7 8 9  \n",
      "  0 + + + + + + + + + + \n",
      "    |\u001b[34mX\u001b[0m|\u001b[31mX\u001b[0m| | | | | | | | \n",
      "  1 + + + + + + + + + + \n",
      "              | | | |   \n",
      "  2       + + + + + +   \n",
      "          | | | |\u001b[32mX\u001b[0m|     \n",
      "          + + + + +     \n"
     ]
    }
   ],
   "source": [
    "m.plot()"
   ]
  },
  {
   "cell_type": "code",
   "execution_count": 456,
   "metadata": {},
   "outputs": [],
   "source": [
    "cur = m.cursor"
   ]
  },
  {
   "cell_type": "code",
   "execution_count": 458,
   "metadata": {},
   "outputs": [
    {
     "data": {
      "text/plain": [
       "[0, 0]"
      ]
     },
     "execution_count": 458,
     "metadata": {},
     "output_type": "execute_result"
    }
   ],
   "source": [
    "cur.pos"
   ]
  },
  {
   "cell_type": "code",
   "execution_count": 469,
   "metadata": {},
   "outputs": [],
   "source": [
    "cur.pos = [0,[5, 6]]"
   ]
  },
  {
   "cell_type": "code",
   "execution_count": 470,
   "metadata": {},
   "outputs": [],
   "source": [
    "cur.state = 'lh'"
   ]
  },
  {
   "cell_type": "code",
   "execution_count": null,
   "metadata": {},
   "outputs": [],
   "source": []
  },
  {
   "cell_type": "code",
   "execution_count": 471,
   "metadata": {},
   "outputs": [
    {
     "name": "stdout",
     "output_type": "stream",
     "text": [
      "-- Map Plot 3X10\n",
      "\n",
      "    0 1 2 3 4 5 6 7 8 9  \n",
      "  0 + + + + + + + + + + \n",
      "    | |\u001b[31mX\u001b[0m| | | |\u001b[34mX\u001b[0m|\u001b[34mX\u001b[0m| | | \n",
      "  1 + + + + + + + + + + \n",
      "              | | | |   \n",
      "  2       + + + + + +   \n",
      "          | | | |\u001b[32mX\u001b[0m|     \n",
      "          + + + + +     \n"
     ]
    }
   ],
   "source": [
    "m.plot()"
   ]
  },
  {
   "cell_type": "code",
   "execution_count": null,
   "metadata": {},
   "outputs": [],
   "source": []
  },
  {
   "cell_type": "code",
   "execution_count": null,
   "metadata": {},
   "outputs": [],
   "source": []
  },
  {
   "cell_type": "code",
   "execution_count": 442,
   "metadata": {},
   "outputs": [
    {
     "data": {
      "text/plain": [
       "False"
      ]
     },
     "execution_count": 442,
     "metadata": {},
     "output_type": "execute_result"
    }
   ],
   "source": [
    "True and False"
   ]
  },
  {
   "cell_type": "code",
   "execution_count": null,
   "metadata": {},
   "outputs": [],
   "source": []
  }
 ],
 "metadata": {
  "kernelspec": {
   "display_name": "Python 3",
   "language": "python",
   "name": "python3"
  },
  "language_info": {
   "codemirror_mode": {
    "name": "ipython",
    "version": 3
   },
   "file_extension": ".py",
   "mimetype": "text/x-python",
   "name": "python",
   "nbconvert_exporter": "python",
   "pygments_lexer": "ipython3",
   "version": "3.8.3"
  }
 },
 "nbformat": 4,
 "nbformat_minor": 4
}
